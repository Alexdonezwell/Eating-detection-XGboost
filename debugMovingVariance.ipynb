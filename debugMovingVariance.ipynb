{
 "cells": [
  {
   "cell_type": "code",
   "execution_count": 1,
   "metadata": {
    "collapsed": true
   },
   "outputs": [],
   "source": [
    "from IPython.display import display, HTML\n",
    "import pandas as pd\n",
    "\n",
    "from mining.periodic import *\n",
    "from beyourself.data import get_necklace, get_necklace_timestr\n",
    "from beyourself.data.label import read_json\n",
    "from beyourself import settings\n",
    "from beyourself.core.util import *\n",
    "from beyourself.core.algorithm import *\n",
    "    \n",
    "import logging\n",
    "import sys\n",
    "logging.basicConfig(stream=sys.stdout, level=logging.INFO)\n",
    "\n",
    "%matplotlib inline\n",
    "import matplotlib.pyplot as plt\n",
    "\n",
    "import plotly.offline as pltly\n",
    "import plotly.graph_objs as go\n",
    "\n",
    "\n",
    "from datetime import timedelta, date"
   ]
  },
  {
   "cell_type": "code",
   "execution_count": 2,
   "metadata": {
    "collapsed": true
   },
   "outputs": [],
   "source": [
    "df = get_necklace_timestr('P120','2017-09-01 01:00:00.000','2017-09-01 02:00:00.000',reliability=0.01)"
   ]
  },
  {
   "cell_type": "code",
   "execution_count": 3,
   "metadata": {
    "collapsed": false
   },
   "outputs": [
    {
     "name": "stdout",
     "output_type": "stream",
     "text": [
      "       ambient   qW            qX            qY            qZ  leanForward\n",
      "0          NaN  NaN           NaN           NaN           NaN          NaN\n",
      "1          NaN  NaN           NaN           NaN           NaN          NaN\n",
      "2          NaN  NaN           NaN           NaN           NaN          NaN\n",
      "3          NaN  NaN           NaN           NaN           NaN          NaN\n",
      "4          NaN  NaN           NaN           NaN           NaN          NaN\n",
      "5          NaN  NaN           NaN           NaN           NaN          NaN\n",
      "6          NaN  NaN           NaN           NaN           NaN          NaN\n",
      "7          NaN  NaN           NaN           NaN           NaN          NaN\n",
      "8          NaN  NaN           NaN           NaN           NaN          NaN\n",
      "9          NaN  NaN           NaN           NaN           NaN          NaN\n",
      "10         NaN  NaN           NaN           NaN           NaN          NaN\n",
      "11         NaN  NaN           NaN           NaN           NaN          NaN\n",
      "12         NaN  NaN           NaN           NaN           NaN          NaN\n",
      "13         NaN  NaN           NaN           NaN           NaN          NaN\n",
      "14         NaN  NaN           NaN           NaN           NaN          NaN\n",
      "15         NaN  NaN           NaN           NaN           NaN          NaN\n",
      "16         NaN  NaN           NaN           NaN           NaN          NaN\n",
      "17         NaN  NaN           NaN           NaN           NaN          NaN\n",
      "18         NaN  NaN           NaN           NaN           NaN          NaN\n",
      "19         NaN  NaN           NaN           NaN           NaN          NaN\n",
      "20         NaN  NaN           NaN           NaN           NaN          NaN\n",
      "21         NaN  NaN           NaN           NaN           NaN          NaN\n",
      "22         NaN  NaN           NaN           NaN           NaN          NaN\n",
      "23         NaN  NaN           NaN           NaN           NaN          NaN\n",
      "24         NaN  NaN           NaN           NaN           NaN          NaN\n",
      "25         NaN  NaN           NaN           NaN           NaN          NaN\n",
      "26         NaN  NaN           NaN           NaN           NaN          NaN\n",
      "27         NaN  NaN           NaN           NaN           NaN          NaN\n",
      "28         NaN  NaN           NaN           NaN           NaN          NaN\n",
      "29         NaN  NaN           NaN           NaN           NaN          NaN\n",
      "...        ...  ...           ...           ...           ...          ...\n",
      "60781      0.0  0.0  2.428366e-08  2.304588e-08  1.374464e-08     0.000001\n",
      "60782      0.0  0.0  2.428366e-08  2.304588e-08  1.374464e-08     0.000001\n",
      "60783      0.0  0.0  2.428366e-08  2.304588e-08  1.374464e-08     0.000001\n",
      "60784      0.0  0.0  2.428366e-08  2.304588e-08  1.374464e-08     0.000001\n",
      "60785      0.0  0.0  2.428366e-08  2.304588e-08  1.374464e-08     0.000001\n",
      "60786      0.0  0.0  2.428366e-08  2.304588e-08  1.374464e-08     0.000001\n",
      "60787      0.0  0.0  2.428366e-08  2.304588e-08  1.374464e-08     0.000001\n",
      "60788      0.0  0.0  2.428366e-08  2.304588e-08  1.374464e-08     0.000001\n",
      "60789      0.0  0.0  2.428366e-08  2.304588e-08  1.374464e-08     0.000001\n",
      "60790      0.0  0.0  2.428366e-08  2.304588e-08  1.374464e-08     0.000001\n",
      "60791      0.0  0.0  2.428366e-08  2.304588e-08  1.374464e-08     0.000001\n",
      "60792      0.0  0.0  2.428366e-08  2.304588e-08  1.374464e-08     0.000001\n",
      "60793      0.0  0.0  2.428366e-08  2.304588e-08  1.374464e-08     0.000001\n",
      "60794      0.0  0.0  2.428366e-08  2.304588e-08  1.374464e-08     0.000001\n",
      "60795      0.0  0.0  2.428366e-08  2.304588e-08  1.374464e-08     0.000001\n",
      "60796      0.0  0.0  2.428366e-08  2.304588e-08  1.374464e-08     0.000001\n",
      "60797      0.0  0.0  2.428366e-08  2.304588e-08  1.374464e-08     0.000001\n",
      "60798      0.0  0.0  2.428366e-08  2.304588e-08  1.374464e-08     0.000001\n",
      "60799      0.0  0.0  2.428366e-08  2.304588e-08  1.374464e-08     0.000001\n",
      "60800      0.0  0.0  2.428366e-08  2.304588e-08  1.374464e-08     0.000001\n",
      "60801      0.0  0.0  2.428366e-08  2.304588e-08  1.374464e-08     0.000001\n",
      "60802      0.0  0.0  2.428366e-08  2.304588e-08  1.374464e-08     0.000001\n",
      "60803      0.0  0.0  2.428366e-08  2.304588e-08  1.374464e-08     0.000001\n",
      "60804      0.0  0.0  2.428366e-08  2.304588e-08  1.374464e-08     0.000001\n",
      "60805      0.0  0.0  2.428366e-08  2.304588e-08  1.374464e-08     0.000001\n",
      "60806      0.0  0.0  2.428366e-08  2.304588e-08  1.374464e-08     0.000001\n",
      "60807      0.0  0.0  2.428366e-08  2.304588e-08  1.374464e-08     0.000001\n",
      "60808      0.0  0.0  2.428366e-08  2.304588e-08  1.374464e-08     0.000001\n",
      "60809      0.0  0.0  2.428366e-08  2.304588e-08  1.374464e-08     0.000001\n",
      "60810      0.0  0.0  2.428366e-08  2.304588e-08  1.374464e-08     0.000001\n",
      "\n",
      "[60811 rows x 6 columns]\n"
     ]
    }
   ],
   "source": [
    "variance = df[['ambient','qW','qX','qY','qZ','leanForward']].rolling(center=False,window=20*60*5).std()\n",
    "print(variance)"
   ]
  },
  {
   "cell_type": "code",
   "execution_count": 15,
   "metadata": {
    "collapsed": false
   },
   "outputs": [
    {
     "name": "stdout",
     "output_type": "stream",
     "text": [
      "        ambient  leanForward\n",
      "0           NaN          NaN\n",
      "1           NaN          NaN\n",
      "2           NaN          NaN\n",
      "3           NaN          NaN\n",
      "4           NaN          NaN\n",
      "5           NaN          NaN\n",
      "6           NaN          NaN\n",
      "7           NaN          NaN\n",
      "8           NaN          NaN\n",
      "9           NaN          NaN\n",
      "10          NaN          NaN\n",
      "11          NaN          NaN\n",
      "12          NaN          NaN\n",
      "13          NaN          NaN\n",
      "14          NaN          NaN\n",
      "15          NaN          NaN\n",
      "16          NaN          NaN\n",
      "17          NaN          NaN\n",
      "18          NaN          NaN\n",
      "19          NaN          NaN\n",
      "20          NaN          NaN\n",
      "21          NaN          NaN\n",
      "22          NaN          NaN\n",
      "23          NaN          NaN\n",
      "24          NaN          NaN\n",
      "25          NaN          NaN\n",
      "26          NaN          NaN\n",
      "27          NaN          NaN\n",
      "28          NaN          NaN\n",
      "29          NaN          NaN\n",
      "...         ...          ...\n",
      "122334      0.0     0.001176\n",
      "122335      0.0     0.001176\n",
      "122336      0.0     0.001175\n",
      "122337      0.0     0.001175\n",
      "122338      0.0     0.001175\n",
      "122339      0.0     0.001174\n",
      "122340      0.0     0.001174\n",
      "122341      0.0     0.001174\n",
      "122342      0.0     0.001173\n",
      "122343      0.0     0.001173\n",
      "122344      0.0     0.001173\n",
      "122345      0.0     0.001172\n",
      "122346      0.0     0.001172\n",
      "122347      0.0     0.001172\n",
      "122348      0.0     0.001171\n",
      "122349      0.0     0.001171\n",
      "122350      0.0     0.001170\n",
      "122351      0.0     0.001170\n",
      "122352      0.0     0.001170\n",
      "122353      0.0     0.001169\n",
      "122354      0.0     0.001169\n",
      "122355      0.0     0.001169\n",
      "122356      0.0     0.001168\n",
      "122357      0.0     0.001168\n",
      "122358      0.0     0.001168\n",
      "122359      0.0     0.001167\n",
      "122360      0.0     0.001167\n",
      "122361      0.0     0.001167\n",
      "122362      0.0     0.001166\n",
      "122363      0.0     0.001166\n",
      "\n",
      "[122364 rows x 2 columns]\n"
     ]
    }
   ],
   "source": []
  },
  {
   "cell_type": "code",
   "execution_count": null,
   "metadata": {
    "collapsed": true
   },
   "outputs": [],
   "source": []
  }
 ],
 "metadata": {
  "kernelspec": {
   "display_name": "Python 3",
   "language": "python",
   "name": "python3"
  },
  "language_info": {
   "codemirror_mode": {
    "name": "ipython",
    "version": 3
   },
   "file_extension": ".py",
   "mimetype": "text/x-python",
   "name": "python",
   "nbconvert_exporter": "python",
   "pygments_lexer": "ipython3",
   "version": "3.4.5"
  }
 },
 "nbformat": 4,
 "nbformat_minor": 2
}
