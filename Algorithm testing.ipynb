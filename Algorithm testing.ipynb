{
 "cells": [
  {
   "cell_type": "code",
   "execution_count": 1,
   "metadata": {
    "collapsed": false
   },
   "outputs": [],
   "source": [
    "from mining.periodic import *\n",
    "import sys\n",
    "import logging\n",
    "logging.basicConfig(stream=sys.stdout, level=logging.DEBUG)\n",
    "import numpy as np"
   ]
  },
  {
   "cell_type": "code",
   "execution_count": 2,
   "metadata": {
    "collapsed": true
   },
   "outputs": [],
   "source": [
    "a = np.array([1,1.5,2,3,4,7,10,13,16,19])"
   ]
  },
  {
   "cell_type": "code",
   "execution_count": 3,
   "metadata": {
    "collapsed": false
   },
   "outputs": [
    {
     "name": "stdout",
     "output_type": "stream",
     "text": [
      "[1.0, 2.0, 3.0, 4.0]\n"
     ]
    }
   ],
   "source": [
    "index = absolute_error_periodic_subsequence(a, pmin=0.99,pmax=1.01)\n",
    "for subs_index in index:\n",
    "    subq = [a[t] for t in subs_index]\n",
    "    print(subq)"
   ]
  },
  {
   "cell_type": "code",
   "execution_count": 5,
   "metadata": {
    "collapsed": false
   },
   "outputs": [
    {
     "name": "stdout",
     "output_type": "stream",
     "text": [
      "[1.0, 4.0, 7.0, 10.0, 13.0, 16.0, 19.0]\n"
     ]
    }
   ],
   "source": [
    "index = absolute_error_periodic_subsequence(a, pmin=2.8,pmax=3.2)\n",
    "for subs_index in index:\n",
    "    subq = [a[t] for t in subs_index]\n",
    "    print(subq)"
   ]
  },
  {
   "cell_type": "code",
   "execution_count": 5,
   "metadata": {
    "collapsed": false
   },
   "outputs": [
    {
     "name": "stdout",
     "output_type": "stream",
     "text": [
      "DEBUG:mining.periodic:pmin 0.50 and pmax 0.55\n",
      "DEBUG:mining.periodic:pmin 0.55 and pmax 0.61\n",
      "DEBUG:mining.periodic:pmin 0.61 and pmax 0.67\n",
      "DEBUG:mining.periodic:pmin 0.67 and pmax 0.73\n",
      "DEBUG:mining.periodic:pmin 0.73 and pmax 0.81\n",
      "DEBUG:mining.periodic:pmin 0.81 and pmax 0.89\n",
      "DEBUG:mining.periodic:pmin 0.89 and pmax 0.97\n",
      "DEBUG:mining.periodic:pmin 0.97 and pmax 1.07\n",
      "DEBUG:mining.periodic:pmin 1.07 and pmax 1.18\n",
      "DEBUG:mining.periodic:pmin 1.18 and pmax 1.30\n",
      "DEBUG:mining.periodic:pmin 1.30 and pmax 1.43\n",
      "DEBUG:mining.periodic:pmin 1.43 and pmax 1.57\n",
      "DEBUG:mining.periodic:pmin 1.57 and pmax 1.73\n",
      "DEBUG:mining.periodic:pmin 1.73 and pmax 1.90\n",
      "DEBUG:mining.periodic:pmin 1.90 and pmax 2.09\n",
      "DEBUG:mining.periodic:pmin 2.09 and pmax 2.30\n",
      "DEBUG:mining.periodic:pmin 2.30 and pmax 2.53\n",
      "DEBUG:mining.periodic:pmin 2.53 and pmax 2.78\n",
      "DEBUG:mining.periodic:pmin 2.78 and pmax 3.06\n",
      "DEBUG:mining.periodic:pmin 3.06 and pmax 3.36\n",
      "DEBUG:mining.periodic:pmin 3.36 and pmax 3.70\n",
      "DEBUG:mining.periodic:pmin 3.70 and pmax 4.07\n",
      "DEBUG:mining.periodic:pmin 4.07 and pmax 4.48\n",
      "DEBUG:mining.periodic:pmin 4.48 and pmax 4.92\n",
      "DEBUG:mining.periodic:pmin 4.92 and pmax 5.42\n",
      "DEBUG:mining.periodic:pmin 5.42 and pmax 5.96\n",
      "DEBUG:mining.periodic:pmin 5.96 and pmax 6.55\n",
      "DEBUG:mining.periodic:pmin 6.55 and pmax 7.21\n",
      "DEBUG:mining.periodic:pmin 7.21 and pmax 7.93\n",
      "DEBUG:mining.periodic:pmin 7.93 and pmax 8.72\n",
      "DEBUG:mining.periodic:pmin 8.72 and pmax 9.60\n",
      "DEBUG:mining.periodic:pmin 9.60 and pmax 10.56\n",
      "DEBUG:mining.periodic:pmin 10.56 and pmax 11.61\n",
      "DEBUG:mining.periodic:pmin 11.61 and pmax 12.77\n",
      "DEBUG:mining.periodic:pmin 12.77 and pmax 14.05\n",
      "DEBUG:mining.periodic:pmin 14.05 and pmax 15.46\n",
      "DEBUG:mining.periodic:pmin 15.46 and pmax 17.00\n",
      "DEBUG:mining.periodic:pmin 17.00 and pmax 18.70\n",
      "DEBUG:mining.periodic:pmin 18.70 and pmax 20.57\n",
      "DEBUG:mining.periodic:pmin 20.57 and pmax 22.63\n",
      "DEBUG:mining.periodic:pmin 22.63 and pmax 24.89\n",
      "DEBUG:mining.periodic:pmin 24.89 and pmax 27.38\n",
      "[0, 1, 2, 3]\n",
      "[50, 52, 54, 56]\n",
      "[100, 120, 140, 160, 180, 200]\n"
     ]
    }
   ],
   "source": [
    "a = np.array([0,1,2,3,50,52,54,56,100,120,140,160,180,200])\n",
    "\n",
    "index = relative_error_periodic_subsequence(a, eps=0.1, low=0.5, high=25, min_length=2)\n",
    "\n",
    "for subs_index in index:\n",
    "    subq = [a[t] for t in subs_index]\n",
    "    print(subq)"
   ]
  },
  {
   "cell_type": "code",
   "execution_count": null,
   "metadata": {
    "collapsed": true
   },
   "outputs": [],
   "source": []
  }
 ],
 "metadata": {
  "kernelspec": {
   "display_name": "Python 3",
   "language": "python",
   "name": "python3"
  },
  "language_info": {
   "codemirror_mode": {
    "name": "ipython",
    "version": 3
   },
   "file_extension": ".py",
   "mimetype": "text/x-python",
   "name": "python",
   "nbconvert_exporter": "python",
   "pygments_lexer": "ipython3",
   "version": "3.4.5"
  }
 },
 "nbformat": 4,
 "nbformat_minor": 2
}
